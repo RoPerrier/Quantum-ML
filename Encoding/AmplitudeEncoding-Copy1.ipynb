{
 "cells": [
  {
   "cell_type": "code",
   "execution_count": 1,
   "id": "3569b4cb-5aea-4de4-80f2-ce987758e0db",
   "metadata": {},
   "outputs": [],
   "source": [
    "#! python -c 'import qiskit; print(qiskit.__version__);'"
   ]
  },
  {
   "cell_type": "code",
   "execution_count": 2,
   "id": "561b92e6-b1ce-4389-a77f-bcf102f7a496",
   "metadata": {},
   "outputs": [],
   "source": [
    "import numpy as np\n",
    "import math\n",
    "from qiskit import QuantumCircuit, QuantumRegister, ClassicalRegister\n",
    "from qiskit_aer import Aer,AerSimulator\n",
    "from qiskit.compiler import transpile\n",
    "from qiskit.visualization import array_to_latex\n",
    "from qiskit.circuit.library import Isometry, StatePreparation, Initialize\n",
    "from qiskit import quantum_info as qi"
   ]
  },
  {
   "cell_type": "code",
   "execution_count": 3,
   "id": "c8a3ed84-ab41-4c34-a1cd-4fe8b386556b",
   "metadata": {},
   "outputs": [
    {
     "data": {
      "text/plain": [
       "array([1.1235])"
      ]
     },
     "execution_count": 3,
     "metadata": {},
     "output_type": "execute_result"
    }
   ],
   "source": [
    "np.set_printoptions(precision=4)\n",
    "np.array([1.123456789])"
   ]
  },
  {
   "cell_type": "markdown",
   "id": "0e677a75-2e02-4600-91fb-6f3adcc8ce51",
   "metadata": {},
   "source": [
    "$\\bullet~$ create a vector with the amplitudes to encode"
   ]
  },
  {
   "cell_type": "code",
   "execution_count": 4,
   "id": "d9d6e333-c51f-431f-9948-8728b1b1a91c",
   "metadata": {},
   "outputs": [
    {
     "name": "stdout",
     "output_type": "stream",
     "text": [
      "[0.1826 0.3651 0.5477 0.7303]\n"
     ]
    }
   ],
   "source": [
    "#vector = np.array([1., 0.])\n",
    "#vector = np.array([0., 1.])\n",
    "#vector = np.array([1./np.sqrt(2.), 1./np.sqrt(2.)])\n",
    "#vector = np.array([1., 1.])\n",
    "\n",
    "vector = np.array([0.1, 0.2, 0.3, 0.4])\n",
    "\n",
    "## number of necessary qubits to encode the vector\n",
    "nq = int(np.log2(len(vector)))\n",
    "\n",
    "vector_norm = vector / np.linalg.norm(vector)\n",
    "print(vector_norm)"
   ]
  },
  {
   "cell_type": "markdown",
   "id": "51bd7f7d-1d9b-49ba-be62-c2727e68506a",
   "metadata": {},
   "source": [
    "#### Using `Isometry`"
   ]
  },
  {
   "cell_type": "code",
   "execution_count": 5,
   "id": "237251de-df20-4328-9278-c18afa1ae671",
   "metadata": {},
   "outputs": [],
   "source": [
    "vector_circuit = Isometry(vector_norm, num_ancillas_zero=0, num_ancillas_dirty=0)"
   ]
  },
  {
   "cell_type": "markdown",
   "id": "14f66bc5-43e8-485e-94a3-2fa4c4266248",
   "metadata": {},
   "source": [
    "$\\bullet~$ get the circuit"
   ]
  },
  {
   "cell_type": "code",
   "execution_count": 6,
   "id": "be25be14-41c9-4cba-bf28-ee99df1c9b87",
   "metadata": {},
   "outputs": [],
   "source": [
    "vector_circuit = vector_circuit.definition"
   ]
  },
  {
   "cell_type": "markdown",
   "id": "bc8eac1e-7389-4953-b6a5-42ef247ed613",
   "metadata": {},
   "source": [
    "$\\bullet~$ transpile the circuit"
   ]
  },
  {
   "cell_type": "code",
   "execution_count": 7,
   "id": "c76cf1ce-19db-49b5-97dc-bdde4f3b748e",
   "metadata": {},
   "outputs": [
    {
     "data": {
      "text/html": [
       "<pre style=\"word-wrap: normal;white-space: pre;background: #fff0;line-height: 1.1;font-family: &quot;Courier New&quot;,Courier,monospace\">global phase: 7π/4\n",
       "      ┌──────────┐ ┌────────────┐┌───┐┌─────────────┐\n",
       "q_0: ─┤ Rz(-π/2) ├─┤ Ry(1.7506) ├┤ X ├┤ Ry(0.46365) ├\n",
       "     ┌┴──────────┴┐└────────────┘└─┬─┘└─────────────┘\n",
       "q_1: ┤ Ry(2.3005) ├────────────────■─────────────────\n",
       "     └────────────┘                                  </pre>"
      ],
      "text/plain": [
       "global phase: 7π/4\n",
       "      ┌──────────┐ ┌────────────┐┌───┐┌─────────────┐\n",
       "q_0: ─┤ Rz(-π/2) ├─┤ Ry(1.7506) ├┤ X ├┤ Ry(0.46365) ├\n",
       "     ┌┴──────────┴┐└────────────┘└─┬─┘└─────────────┘\n",
       "q_1: ┤ Ry(2.3005) ├────────────────■─────────────────\n",
       "     └────────────┘                                  "
      ]
     },
     "execution_count": 7,
     "metadata": {},
     "output_type": "execute_result"
    }
   ],
   "source": [
    "qasm_sim = Aer.get_backend('qasm_simulator')\n",
    "\n",
    "#vector_circuit_t = transpile(vector_circuit, qasm_sim)\n",
    "#vector_circuit_t = transpile(vector_circuit, basis_gates=['id', 'rz', 'sx', 'x', 'cx'])\n",
    "vector_circuit_t = transpile(vector_circuit, basis_gates=['id', 'rz', 'ry', 'sx', 'cx'])\n",
    "\n",
    "vector_circuit_t.draw()"
   ]
  },
  {
   "cell_type": "markdown",
   "id": "bc00e4aa-b650-4015-89d6-dd8e8b875c0c",
   "metadata": {},
   "source": [
    "$\\bullet~$ do a statevector simulation"
   ]
  },
  {
   "cell_type": "code",
   "execution_count": 8,
   "id": "ed7b7fd6-1b76-41d5-9301-2a3752b183ad",
   "metadata": {},
   "outputs": [
    {
     "data": {
      "text/latex": [
       "$$\n",
       "| \\psi \\rangle = \n",
       "\\begin{bmatrix}\n",
       "0.1826 & 0.3651 & 0.5477 & 0.7303  \\\\\n",
       " \\end{bmatrix}\n",
       "$$"
      ],
      "text/plain": [
       "<IPython.core.display.Latex object>"
      ]
     },
     "execution_count": 8,
     "metadata": {},
     "output_type": "execute_result"
    }
   ],
   "source": [
    "sv_sim = Aer.get_backend('statevector_simulator')\n",
    "job = sv_sim.run(vector_circuit_t)\n",
    "psi = job.result().get_statevector(vector_circuit_t, decimals=4)\n",
    "#psi = job.result().get_statevector(vector_circuit_t)\n",
    "array_to_latex(psi, prefix=\"| \\\\psi \\\\rangle = \")"
   ]
  },
  {
   "cell_type": "markdown",
   "id": "cf530078-07ae-4c0a-bb64-7746ff4df08b",
   "metadata": {},
   "source": [
    "$\\bullet~$ do a circuit unitary simulation"
   ]
  },
  {
   "cell_type": "code",
   "execution_count": 9,
   "id": "2962d2b0-0b7a-4ad1-8a9c-c655d427f397",
   "metadata": {},
   "outputs": [
    {
     "data": {
      "text/latex": [
       "$$\n",
       "\\text{U} = \n",
       "\\begin{bmatrix}\n",
       "0.1826 & 0.3651 i & -0.4082 & - 0.8165 i  \\\\\n",
       " 0.3651 & - 0.1826 i & -0.8165 & 0.4082 i  \\\\\n",
       " 0.5477 & - 0.7303 i & 0.2449 & - 0.3266 i  \\\\\n",
       " 0.7303 & 0.5477 i & 0.3266 & 0.2449 i  \\\\\n",
       " \\end{bmatrix}\n",
       "$$"
      ],
      "text/plain": [
       "<IPython.core.display.Latex object>"
      ]
     },
     "execution_count": 9,
     "metadata": {},
     "output_type": "execute_result"
    }
   ],
   "source": [
    "uni_sim = Aer.get_backend('unitary_simulator')\n",
    "job = uni_sim.run(vector_circuit_t)\n",
    "unitary = job.result().get_unitary(vector_circuit_t, decimals=4)\n",
    "#unitary = job.result().get_unitary(vector_circuit_t)\n",
    "array_to_latex(unitary, prefix=\"\\\\text{U} = \")"
   ]
  },
  {
   "cell_type": "markdown",
   "id": "6e1b3c66-f0ea-4faf-8819-ce5db32411a4",
   "metadata": {},
   "source": [
    "#### Using `StatePreparation`"
   ]
  },
  {
   "cell_type": "code",
   "execution_count": 10,
   "id": "821b9f3a-d639-4e39-ad5a-0acda381f332",
   "metadata": {},
   "outputs": [
    {
     "data": {
      "text/html": [
       "<pre style=\"word-wrap: normal;white-space: pre;background: #fff0;line-height: 1.1;font-family: &quot;Courier New&quot;,Courier,monospace\">      ┌────────────────────────────────────────────────────┐\n",
       "q3_0: ┤0                                                   ├\n",
       "      │  State Preparation(0.18257,0.36515,0.54772,0.7303) │\n",
       "q3_1: ┤1                                                   ├\n",
       "      └────────────────────────────────────────────────────┘\n",
       "c0: 2/══════════════════════════════════════════════════════\n",
       "                                                            </pre>"
      ],
      "text/plain": [
       "      ┌────────────────────────────────────────────────────┐\n",
       "q3_0: ┤0                                                   ├\n",
       "      │  State Preparation(0.18257,0.36515,0.54772,0.7303) │\n",
       "q3_1: ┤1                                                   ├\n",
       "      └────────────────────────────────────────────────────┘\n",
       "c0: 2/══════════════════════════════════════════════════════\n",
       "                                                            "
      ]
     },
     "execution_count": 10,
     "metadata": {},
     "output_type": "execute_result"
    }
   ],
   "source": [
    "qr = QuantumRegister(nq)\n",
    "cr = ClassicalRegister(nq)\n",
    "qc = QuantumCircuit(qr, cr)\n",
    "qc_sp = StatePreparation(vector_norm)\n",
    "qc.append(qc_sp, qr)\n",
    "qc.draw()"
   ]
  },
  {
   "cell_type": "markdown",
   "id": "41bc3a59-1d9f-4b7f-8416-335d9c323c10",
   "metadata": {},
   "source": [
    "$\\bullet~$ transpile the circuit"
   ]
  },
  {
   "cell_type": "code",
   "execution_count": 11,
   "id": "c869f65e-8f57-462d-8b34-1c93d1da7887",
   "metadata": {},
   "outputs": [
    {
     "data": {
      "text/html": [
       "<pre style=\"word-wrap: normal;white-space: pre;background: #fff0;line-height: 1.1;font-family: &quot;Courier New&quot;,Courier,monospace\">global phase: π/2\n",
       "       ┌──────────┐ ┌────────────┐┌──────┐┌─────────────┐\n",
       "q3_0: ─┤ Ry(-π/2) ├─┤ Rz(2.9617) ├┤1     ├┤ Ry(0.46365) ├\n",
       "      ┌┴──────────┴┐└┬──────────┬┘│  Ecr │└────┬───┬────┘\n",
       "q3_1: ┤ Ry(2.3005) ├─┤ Rz(-π/2) ├─┤0     ├─────┤ X ├─────\n",
       "      └────────────┘ └──────────┘ └──────┘     └───┘     \n",
       "c0: 2/═══════════════════════════════════════════════════\n",
       "                                                         </pre>"
      ],
      "text/plain": [
       "global phase: π/2\n",
       "       ┌──────────┐ ┌────────────┐┌──────┐┌─────────────┐\n",
       "q3_0: ─┤ Ry(-π/2) ├─┤ Rz(2.9617) ├┤1     ├┤ Ry(0.46365) ├\n",
       "      ┌┴──────────┴┐└┬──────────┬┘│  Ecr │└────┬───┬────┘\n",
       "q3_1: ┤ Ry(2.3005) ├─┤ Rz(-π/2) ├─┤0     ├─────┤ X ├─────\n",
       "      └────────────┘ └──────────┘ └──────┘     └───┘     \n",
       "c0: 2/═══════════════════════════════════════════════════\n",
       "                                                         "
      ]
     },
     "execution_count": 11,
     "metadata": {},
     "output_type": "execute_result"
    }
   ],
   "source": [
    "#qc_t = transpile(qc, qasm_sim)\n",
    "#qc_t = transpile(qc, basis_gates=['id', 'rz', 'sx', 'x', 'cx'])\n",
    "#qc_t = transpile(qc, basis_gates=['id', 'rz', 'ry', 'sx', 'cx'])\n",
    "qc_t = transpile(qc, basis_gates=['id', 'rz', 'ry', 'ecr', 'x', 'sx'])\n",
    "\n",
    "qc_t.draw()"
   ]
  },
  {
   "cell_type": "markdown",
   "id": "1f310f5e-765d-46cf-81d8-01502c3629eb",
   "metadata": {},
   "source": [
    "$\\bullet~$ do a statevector simulation"
   ]
  },
  {
   "cell_type": "code",
   "execution_count": 12,
   "id": "5218b13b-0cc5-4f65-8bfc-9f47e349cff4",
   "metadata": {},
   "outputs": [
    {
     "data": {
      "text/latex": [
       "$$\n",
       "| \\psi \\rangle = \n",
       "\\begin{bmatrix}\n",
       "0.1826 & 0.3651 & 0.5477 & 0.7303  \\\\\n",
       " \\end{bmatrix}\n",
       "$$"
      ],
      "text/plain": [
       "<IPython.core.display.Latex object>"
      ]
     },
     "execution_count": 12,
     "metadata": {},
     "output_type": "execute_result"
    }
   ],
   "source": [
    "job = sv_sim.run(qc_t)\n",
    "psi = job.result().get_statevector(qc_t, decimals=4)\n",
    "#psi = job.result().get_statevector(vector_circuit_t)\n",
    "array_to_latex(psi, prefix=\"| \\\\psi \\\\rangle = \")"
   ]
  },
  {
   "cell_type": "markdown",
   "id": "9802c064-5944-4c46-9da0-c1905d0c6590",
   "metadata": {},
   "source": [
    "#### Using `Initialize`"
   ]
  },
  {
   "cell_type": "code",
   "execution_count": 13,
   "id": "aa2be69b-29d1-48b0-84e6-8ca8dc7e5c7d",
   "metadata": {},
   "outputs": [],
   "source": [
    "qr = QuantumRegister(nq)\n",
    "cr = ClassicalRegister(nq)\n",
    "qc = QuantumCircuit(qr, cr)"
   ]
  },
  {
   "cell_type": "code",
   "execution_count": 14,
   "id": "6c5b185d-00d3-45b9-9a05-087ea166f247",
   "metadata": {},
   "outputs": [
    {
     "data": {
      "text/plain": [
       "CircuitInstruction(operation=Instruction(name='barrier', num_qubits=2, num_clbits=0, params=[]), qubits=(Qubit(QuantumRegister(2, 'q6'), 0), Qubit(QuantumRegister(2, 'q6'), 1)), clbits=())"
      ]
     },
     "execution_count": 14,
     "metadata": {},
     "output_type": "execute_result"
    }
   ],
   "source": [
    "psi_0 = qi.Statevector(vector_norm)\n",
    "init_gate = Initialize(psi_0)\n",
    "init_gate.label = \"init\"\n",
    "qc.append(init_gate, qr)\n",
    "qc.barrier()"
   ]
  },
  {
   "cell_type": "markdown",
   "id": "52a9fc83-4249-46cb-9be3-11b3dce2ac46",
   "metadata": {},
   "source": [
    "$\\bullet~$ transpile the circuit"
   ]
  },
  {
   "cell_type": "code",
   "execution_count": 15,
   "id": "c33978dc-0414-4b15-9ac1-810613b61163",
   "metadata": {},
   "outputs": [
    {
     "data": {
      "text/html": [
       "<pre style=\"word-wrap: normal;white-space: pre;background: #fff0;line-height: 1.1;font-family: &quot;Courier New&quot;,Courier,monospace\">global phase: π/2\n",
       "            ┌──────────┐ ┌────────────┐┌──────┐┌─────────────┐ ░ \n",
       "q6_0: ─|0>──┤ Ry(-π/2) ├─┤ Rz(2.9617) ├┤1     ├┤ Ry(0.46365) ├─░─\n",
       "           ┌┴──────────┴┐└┬──────────┬┘│  Ecr │└────┬───┬────┘ ░ \n",
       "q6_1: ─|0>─┤ Ry(2.3005) ├─┤ Rz(-π/2) ├─┤0     ├─────┤ X ├──────░─\n",
       "           └────────────┘ └──────────┘ └──────┘     └───┘      ░ \n",
       "c1: 2/═══════════════════════════════════════════════════════════\n",
       "                                                                 </pre>"
      ],
      "text/plain": [
       "global phase: π/2\n",
       "            ┌──────────┐ ┌────────────┐┌──────┐┌─────────────┐ ░ \n",
       "q6_0: ─|0>──┤ Ry(-π/2) ├─┤ Rz(2.9617) ├┤1     ├┤ Ry(0.46365) ├─░─\n",
       "           ┌┴──────────┴┐└┬──────────┬┘│  Ecr │└────┬───┬────┘ ░ \n",
       "q6_1: ─|0>─┤ Ry(2.3005) ├─┤ Rz(-π/2) ├─┤0     ├─────┤ X ├──────░─\n",
       "           └────────────┘ └──────────┘ └──────┘     └───┘      ░ \n",
       "c1: 2/═══════════════════════════════════════════════════════════\n",
       "                                                                 "
      ]
     },
     "execution_count": 15,
     "metadata": {},
     "output_type": "execute_result"
    }
   ],
   "source": [
    "#qc_t = transpile(qc, qasm_sim)\n",
    "#qc_t = transpile(qc, basis_gates=['id', 'rz', 'sx', 'x', 'cx'])\n",
    "#qc_t = transpile(qc, basis_gates=['id', 'rz', 'ry', 'sx', 'cx'])\n",
    "qc_t = transpile(qc, basis_gates=['id', 'rz', 'ry', 'ecr', 'x', 'sx'])\n",
    "\n",
    "qc_t.draw()"
   ]
  },
  {
   "cell_type": "markdown",
   "id": "9b40a2af-4a05-43c1-888e-ecd04397efaf",
   "metadata": {},
   "source": [
    "$\\bullet~$ do a statevector simulation"
   ]
  },
  {
   "cell_type": "code",
   "execution_count": 16,
   "id": "4e075f8f-b3aa-4d86-a455-b1c39e2b39f7",
   "metadata": {},
   "outputs": [
    {
     "data": {
      "text/latex": [
       "$$\n",
       "| \\psi \\rangle = \n",
       "\\begin{bmatrix}\n",
       "0.1826 & 0.3651 & 0.5477 & 0.7303  \\\\\n",
       " \\end{bmatrix}\n",
       "$$"
      ],
      "text/plain": [
       "<IPython.core.display.Latex object>"
      ]
     },
     "execution_count": 16,
     "metadata": {},
     "output_type": "execute_result"
    }
   ],
   "source": [
    "job = sv_sim.run(qc_t)\n",
    "psi = job.result().get_statevector(qc_t, decimals=4)\n",
    "#psi = job.result().get_statevector(vector_circuit_t)\n",
    "array_to_latex(psi, prefix=\"| \\\\psi \\\\rangle = \")"
   ]
  },
  {
   "cell_type": "markdown",
   "id": "23a6469e-ffbb-41cc-91a1-ffd48da188d1",
   "metadata": {},
   "source": [
    "# TEST"
   ]
  },
  {
   "cell_type": "code",
   "execution_count": 17,
   "id": "17d0ae46-3620-4222-9e1a-dbeab44aa2d2",
   "metadata": {},
   "outputs": [],
   "source": [
    "import tensorflow as tf\n",
    "import matplotlib.pyplot as plt\n",
    "\n",
    "# Charger les données MNIST\n",
    "(x_train, y_train), (x_test, y_test) = tf.keras.datasets.mnist.load_data()"
   ]
  },
  {
   "cell_type": "code",
   "execution_count": 18,
   "id": "6ca1b8b5-bd9f-42d1-bbd1-9dc2725b87fb",
   "metadata": {},
   "outputs": [
    {
     "data": {
      "image/png": "[encoded data removed]",
      "text/plain": [
       "<Figure size 640x480 with 1 Axes>"
      ]
     },
     "metadata": {},
     "output_type": "display_data"
    }
   ],
   "source": [
    "# Sélectionner l'element sur lequel on va travailler\n",
    "index = 0\n",
    "image = x_train[index]\n",
    "label = y_train[index]\n",
    "\n",
    "# Afficher l'image avec son étiquette\n",
    "plt.imshow(image, cmap='gray')\n",
    "plt.title(f\"Étiquette : {label}\")\n",
    "plt.axis('off')\n",
    "plt.show()\n"
   ]
  },
  {
   "cell_type": "code",
   "execution_count": 19,
   "id": "8a3b1460-06e1-42f8-b15a-daf2b4c1292a",
   "metadata": {
    "scrolled": true
   },
   "outputs": [
    {
     "data": {
      "text/plain": [
       "array([0.    , 0.    , 0.    , 0.    , 0.    , 0.    , 0.    , 0.    ,\n",
       "       0.    , 0.    , 0.    , 0.    , 0.    , 0.    , 0.    , 0.    ,\n",
       "       0.    , 0.    , 0.    , 0.    , 0.    , 0.    , 0.    , 0.    ,\n",
       "       0.    , 0.    , 0.    , 0.    , 0.    , 0.    , 0.    , 0.    ,\n",
       "       0.    , 0.    , 0.    , 0.    , 0.    , 0.    , 0.    , 0.    ,\n",
       "       0.    , 0.    , 0.    , 0.    , 0.    , 0.    , 0.    , 0.    ,\n",
       "       0.    , 0.    , 0.    , 0.    , 0.    , 0.    , 0.    , 0.    ,\n",
       "       0.    , 0.    , 0.    , 0.    , 0.    , 0.    , 0.    , 0.    ,\n",
       "       0.    , 0.    , 0.    , 0.    , 0.    , 0.    , 0.    , 0.    ,\n",
       "       0.    , 0.    , 0.    , 0.    , 0.    , 0.    , 0.    , 0.    ,\n",
       "       0.    , 0.    , 0.    , 0.    , 0.    , 0.    , 0.    , 0.    ,\n",
       "       0.    , 0.    , 0.    , 0.    , 0.    , 0.    , 0.    , 0.    ,\n",
       "       0.    , 0.    , 0.    , 0.    , 0.    , 0.    , 0.    , 0.    ,\n",
       "       0.    , 0.    , 0.    , 0.    , 0.    , 0.    , 0.    , 0.    ,\n",
       "       0.    , 0.    , 0.    , 0.    , 0.    , 0.    , 0.    , 0.    ,\n",
       "       0.    , 0.    , 0.    , 0.    , 0.    , 0.    , 0.    , 0.    ,\n",
       "       0.    , 0.    , 0.    , 0.    , 0.    , 0.    , 0.    , 0.    ,\n",
       "       0.    , 0.    , 0.    , 0.    , 0.    , 0.    , 0.    , 0.    ,\n",
       "       0.    , 0.    , 0.    , 0.    , 0.    , 0.    , 0.    , 0.    ,\n",
       "       0.0012, 0.0074, 0.0074, 0.0074, 0.0517, 0.0558, 0.0718, 0.0107,\n",
       "       0.0681, 0.1046, 0.1013, 0.0521, 0.    , 0.    , 0.    , 0.    ,\n",
       "       0.    , 0.    , 0.    , 0.    , 0.    , 0.    , 0.    , 0.    ,\n",
       "       0.0123, 0.0148, 0.0386, 0.0632, 0.0698, 0.1038, 0.1038, 0.1038,\n",
       "       0.1038, 0.1038, 0.0923, 0.0706, 0.1038, 0.0993, 0.08  , 0.0263,\n",
       "       0.    , 0.    , 0.    , 0.    , 0.    , 0.    , 0.    , 0.    ,\n",
       "       0.    , 0.    , 0.    , 0.0201, 0.0977, 0.1038, 0.1038, 0.1038,\n",
       "       0.1038, 0.1038, 0.1038, 0.1038, 0.1038, 0.103 , 0.0382, 0.0336,\n",
       "       0.0336, 0.023 , 0.016 , 0.    , 0.    , 0.    , 0.    , 0.    ,\n",
       "       0.    , 0.    , 0.    , 0.    , 0.    , 0.    , 0.    , 0.0074,\n",
       "       0.0899, 0.1038, 0.1038, 0.1038, 0.1038, 0.1038, 0.0812, 0.0747,\n",
       "       0.1013, 0.0989, 0.    , 0.    , 0.    , 0.    , 0.    , 0.    ,\n",
       "       0.    , 0.    , 0.    , 0.    , 0.    , 0.    , 0.    , 0.    ,\n",
       "       0.    , 0.    , 0.    , 0.    , 0.0328, 0.064 , 0.0439, 0.1038,\n",
       "       0.1038, 0.0841, 0.0045, 0.    , 0.0176, 0.0632, 0.    , 0.    ,\n",
       "       0.    , 0.    , 0.    , 0.    , 0.    , 0.    , 0.    , 0.    ,\n",
       "       0.    , 0.    , 0.    , 0.    , 0.    , 0.    , 0.    , 0.    ,\n",
       "       0.    , 0.0057, 0.0004, 0.0632, 0.1038, 0.0369, 0.    , 0.    ,\n",
       "       0.    , 0.    , 0.    , 0.    , 0.    , 0.    , 0.    , 0.    ,\n",
       "       0.    , 0.    , 0.    , 0.    , 0.    , 0.    , 0.    , 0.    ,\n",
       "       0.    , 0.    , 0.    , 0.    , 0.    , 0.    , 0.    , 0.057 ,\n",
       "       0.1038, 0.078 , 0.0008, 0.    , 0.    , 0.    , 0.    , 0.    ,\n",
       "       0.    , 0.    , 0.    , 0.    , 0.    , 0.    , 0.    , 0.    ,\n",
       "       0.    , 0.    , 0.    , 0.    , 0.    , 0.    , 0.    , 0.    ,\n",
       "       0.    , 0.    , 0.    , 0.0045, 0.078 , 0.1038, 0.0287, 0.    ,\n",
       "       0.    , 0.    , 0.    , 0.    , 0.    , 0.    , 0.    , 0.    ,\n",
       "       0.    , 0.    , 0.    , 0.    , 0.    , 0.    , 0.    , 0.    ,\n",
       "       0.    , 0.    , 0.    , 0.    , 0.    , 0.    , 0.    , 0.    ,\n",
       "       0.0144, 0.0989, 0.0923, 0.0656, 0.0443, 0.0004, 0.    , 0.    ,\n",
       "       0.    , 0.    , 0.    , 0.    , 0.    , 0.    , 0.    , 0.    ,\n",
       "       0.    , 0.    , 0.    , 0.    , 0.    , 0.    , 0.    , 0.    ,\n",
       "       0.    , 0.    , 0.    , 0.    , 0.    , 0.0332, 0.0985, 0.1038,\n",
       "       0.1038, 0.0488, 0.0103, 0.    , 0.    , 0.    , 0.    , 0.    ,\n",
       "       0.    , 0.    , 0.    , 0.    , 0.    , 0.    , 0.    , 0.    ,\n",
       "       0.    , 0.    , 0.    , 0.    , 0.    , 0.    , 0.    , 0.    ,\n",
       "       0.    , 0.    , 0.0185, 0.0763, 0.1038, 0.1038, 0.0615, 0.0111,\n",
       "       0.    , 0.    , 0.    , 0.    , 0.    , 0.    , 0.    , 0.    ,\n",
       "       0.    , 0.    , 0.    , 0.    , 0.    , 0.    , 0.    , 0.    ,\n",
       "       0.    , 0.    , 0.    , 0.    , 0.    , 0.    , 0.    , 0.0066,\n",
       "       0.0382, 0.1034, 0.1038, 0.0767, 0.    , 0.    , 0.    , 0.    ,\n",
       "       0.    , 0.    , 0.    , 0.    , 0.    , 0.    , 0.    , 0.    ,\n",
       "       0.    , 0.    , 0.    , 0.    , 0.    , 0.    , 0.    , 0.    ,\n",
       "       0.    , 0.    , 0.    , 0.    , 0.    , 0.1022, 0.1038, 0.1022,\n",
       "       0.0263, 0.    , 0.    , 0.    , 0.    , 0.    , 0.    , 0.    ,\n",
       "       0.    , 0.    , 0.    , 0.    , 0.    , 0.    , 0.    , 0.    ,\n",
       "       0.    , 0.    , 0.    , 0.    , 0.    , 0.    , 0.0189, 0.0533,\n",
       "       0.0751, 0.1038, 0.1038, 0.0849, 0.0008, 0.    , 0.    , 0.    ,\n",
       "       0.    , 0.    , 0.    , 0.    , 0.    , 0.    , 0.    , 0.    ,\n",
       "       0.    , 0.    , 0.    , 0.    , 0.    , 0.    , 0.    , 0.    ,\n",
       "       0.016 , 0.0607, 0.094 , 0.1038, 0.1038, 0.1038, 0.1026, 0.0747,\n",
       "       0.    , 0.    , 0.    , 0.    , 0.    , 0.    , 0.    , 0.    ,\n",
       "       0.    , 0.    , 0.    , 0.    , 0.    , 0.    , 0.    , 0.    ,\n",
       "       0.    , 0.    , 0.0098, 0.0468, 0.0907, 0.1038, 0.1038, 0.1038,\n",
       "       0.1038, 0.0825, 0.032 , 0.    , 0.    , 0.    , 0.    , 0.    ,\n",
       "       0.    , 0.    , 0.    , 0.    , 0.    , 0.    , 0.    , 0.    ,\n",
       "       0.    , 0.    , 0.    , 0.    , 0.0094, 0.0271, 0.0874, 0.1038,\n",
       "       0.1038, 0.1038, 0.1038, 0.0812, 0.0332, 0.0008, 0.    , 0.    ,\n",
       "       0.    , 0.    , 0.    , 0.    , 0.    , 0.    , 0.    , 0.    ,\n",
       "       0.    , 0.    , 0.    , 0.    , 0.    , 0.    , 0.0074, 0.0702,\n",
       "       0.0899, 0.1038, 0.1038, 0.1038, 0.1038, 0.08  , 0.0328, 0.0037,\n",
       "       0.    , 0.    , 0.    , 0.    , 0.    , 0.    , 0.    , 0.    ,\n",
       "       0.    , 0.    , 0.    , 0.    , 0.    , 0.    , 0.    , 0.    ,\n",
       "       0.0226, 0.0706, 0.0927, 0.1038, 0.1038, 0.1038, 0.1038, 0.1001,\n",
       "       0.0546, 0.0045, 0.    , 0.    , 0.    , 0.    , 0.    , 0.    ,\n",
       "       0.    , 0.    , 0.    , 0.    , 0.    , 0.    , 0.    , 0.    ,\n",
       "       0.    , 0.    , 0.    , 0.    , 0.0558, 0.1038, 0.1038, 0.1038,\n",
       "       0.087 , 0.0554, 0.0542, 0.0066, 0.    , 0.    , 0.    , 0.    ,\n",
       "       0.    , 0.    , 0.    , 0.    , 0.    , 0.    , 0.    , 0.    ,\n",
       "       0.    , 0.    , 0.    , 0.    , 0.    , 0.    , 0.    , 0.    ,\n",
       "       0.    , 0.    , 0.    , 0.    , 0.    , 0.    , 0.    , 0.    ,\n",
       "       0.    , 0.    , 0.    , 0.    , 0.    , 0.    , 0.    , 0.    ,\n",
       "       0.    , 0.    , 0.    , 0.    , 0.    , 0.    , 0.    , 0.    ,\n",
       "       0.    , 0.    , 0.    , 0.    , 0.    , 0.    , 0.    , 0.    ,\n",
       "       0.    , 0.    , 0.    , 0.    , 0.    , 0.    , 0.    , 0.    ,\n",
       "       0.    , 0.    , 0.    , 0.    , 0.    , 0.    , 0.    , 0.    ,\n",
       "       0.    , 0.    , 0.    , 0.    , 0.    , 0.    , 0.    , 0.    ,\n",
       "       0.    , 0.    , 0.    , 0.    , 0.    , 0.    , 0.    , 0.    ,\n",
       "       0.    , 0.    , 0.    , 0.    , 0.    , 0.    , 0.    , 0.    ,\n",
       "       0.    , 0.    , 0.    , 0.    , 0.    , 0.    , 0.    , 0.    ])"
      ]
     },
     "execution_count": 19,
     "metadata": {},
     "output_type": "execute_result"
    }
   ],
   "source": [
    "#Normalisation\n",
    "image = image.flatten()\n",
    "image_norm = image / np.linalg.norm(image)\n",
    "image_norm"
   ]
  },
  {
   "cell_type": "code",
   "execution_count": 20,
   "id": "6a3fed1e-8ef7-4eec-9c97-551d02399be5",
   "metadata": {},
   "outputs": [],
   "source": [
    "#Padding\n",
    "image_norm=np.pad(image_norm, pad_width=(0,1024-len(image_norm)), mode='constant', constant_values=0)"
   ]
  },
  {
   "cell_type": "code",
   "execution_count": 21,
   "id": "ee4e6e52-8749-4adb-80fb-50085592cd70",
   "metadata": {},
   "outputs": [
    {
     "data": {
      "text/plain": [
       "1024"
      ]
     },
     "execution_count": 21,
     "metadata": {},
     "output_type": "execute_result"
    }
   ],
   "source": [
    "#Verification du padding\n",
    "len(image_norm)"
   ]
  },
  {
   "cell_type": "code",
   "execution_count": 22,
   "id": "1d1f1d9c-a020-4963-bce7-025d5050e261",
   "metadata": {},
   "outputs": [],
   "source": [
    "#Creation du circuit\n",
    "nq = int(np.log2(len(image_norm))) +40\n",
    "qr = QuantumRegister(nq)\n",
    "cr = ClassicalRegister(nq)\n",
    "qc = QuantumCircuit(qr, cr)"
   ]
  },
  {
   "cell_type": "code",
   "execution_count": 23,
   "id": "797c9534-e6ca-4feb-8199-90cfeaa535a7",
   "metadata": {},
   "outputs": [
    {
     "data": {
      "text/plain": [
       "CircuitInstruction(operation=Instruction(name='barrier', num_qubits=50, num_clbits=0, params=[]), qubits=(Qubit(QuantumRegister(50, 'q11'), 0), Qubit(QuantumRegister(50, 'q11'), 1), Qubit(QuantumRegister(50, 'q11'), 2), Qubit(QuantumRegister(50, 'q11'), 3), Qubit(QuantumRegister(50, 'q11'), 4), Qubit(QuantumRegister(50, 'q11'), 5), Qubit(QuantumRegister(50, 'q11'), 6), Qubit(QuantumRegister(50, 'q11'), 7), Qubit(QuantumRegister(50, 'q11'), 8), Qubit(QuantumRegister(50, 'q11'), 9), Qubit(QuantumRegister(50, 'q11'), 10), Qubit(QuantumRegister(50, 'q11'), 11), Qubit(QuantumRegister(50, 'q11'), 12), Qubit(QuantumRegister(50, 'q11'), 13), Qubit(QuantumRegister(50, 'q11'), 14), Qubit(QuantumRegister(50, 'q11'), 15), Qubit(QuantumRegister(50, 'q11'), 16), Qubit(QuantumRegister(50, 'q11'), 17), Qubit(QuantumRegister(50, 'q11'), 18), Qubit(QuantumRegister(50, 'q11'), 19), Qubit(QuantumRegister(50, 'q11'), 20), Qubit(QuantumRegister(50, 'q11'), 21), Qubit(QuantumRegister(50, 'q11'), 22), Qubit(QuantumRegister(50, 'q11'), 23), Qubit(QuantumRegister(50, 'q11'), 24), Qubit(QuantumRegister(50, 'q11'), 25), Qubit(QuantumRegister(50, 'q11'), 26), Qubit(QuantumRegister(50, 'q11'), 27), Qubit(QuantumRegister(50, 'q11'), 28), Qubit(QuantumRegister(50, 'q11'), 29), Qubit(QuantumRegister(50, 'q11'), 30), Qubit(QuantumRegister(50, 'q11'), 31), Qubit(QuantumRegister(50, 'q11'), 32), Qubit(QuantumRegister(50, 'q11'), 33), Qubit(QuantumRegister(50, 'q11'), 34), Qubit(QuantumRegister(50, 'q11'), 35), Qubit(QuantumRegister(50, 'q11'), 36), Qubit(QuantumRegister(50, 'q11'), 37), Qubit(QuantumRegister(50, 'q11'), 38), Qubit(QuantumRegister(50, 'q11'), 39), Qubit(QuantumRegister(50, 'q11'), 40), Qubit(QuantumRegister(50, 'q11'), 41), Qubit(QuantumRegister(50, 'q11'), 42), Qubit(QuantumRegister(50, 'q11'), 43), Qubit(QuantumRegister(50, 'q11'), 44), Qubit(QuantumRegister(50, 'q11'), 45), Qubit(QuantumRegister(50, 'q11'), 46), Qubit(QuantumRegister(50, 'q11'), 47), Qubit(QuantumRegister(50, 'q11'), 48), Qubit(QuantumRegister(50, 'q11'), 49)), clbits=())"
      ]
     },
     "execution_count": 23,
     "metadata": {},
     "output_type": "execute_result"
    }
   ],
   "source": [
    "#Encodage du vecteur\n",
    "psi_0 = qi.Statevector(image_norm)\n",
    "init_gate = Isometry(image_norm, num_ancillas_zero=20, num_ancillas_dirty=20)\n",
    "init_gate.label = \"init\"\n",
    "qc.append(init_gate, qr)\n",
    "qc.barrier()"
   ]
  },
  {
   "cell_type": "code",
   "execution_count": 24,
   "id": "820f7cc2-48cc-4b68-9d2d-d5e0e0baa009",
   "metadata": {},
   "outputs": [
    {
     "name": "stdout",
     "output_type": "stream",
     "text": [
      "3710\n"
     ]
    }
   ],
   "source": [
    "#Affichage du nombre de porte standard\n",
    "\n",
    "qc_t = transpile(qc, basis_gates=['id', 'rz', 'ry', 'ecr', 'x', 'sx'])\n",
    "qc_t.draw()\n",
    "print(qc_t.depth())"
   ]
  },
  {
   "cell_type": "markdown",
   "id": "dde3ef87-e559-4c17-ad78-70442b3ae90b",
   "metadata": {},
   "source": [
    "The depth of the circuit is not good, three time the length of the original data."
   ]
  },
  {
   "cell_type": "markdown",
   "id": "c78eec2f-d949-4f7c-88b7-5aa31ca3c35e",
   "metadata": {},
   "source": [
    "# Comprendre la méthode SP + CSP"
   ]
  },
  {
   "cell_type": "markdown",
   "id": "ae933397-f3fc-4fc4-8208-a97cab618e0b",
   "metadata": {},
   "source": [
    "# implementation SP"
   ]
  },
  {
   "cell_type": "markdown",
   "id": "3da15da5-1a8b-4086-9c5c-a6f7b7e094f3",
   "metadata": {},
   "source": [
    "### Calcul des angles"
   ]
  },
  {
   "cell_type": "markdown",
   "id": "a64f7278-5061-4487-944b-aa57a363609c",
   "metadata": {},
   "source": [
    "$\n",
    "\\theta_{s,p} = 2 \\cos^{-1} \\left( \\sqrt{\\frac{\\sum_{l=0}^{2^{m-s-1}-1} \\left| y_{p*2^{m-s}+l} \\right|^2}{\\sum_{l=0}^{2^{m-s}-1} \\left| y_{p*2^{m-s}+l} \\right|^2}} \\right)\n",
    "$\n"
   ]
  },
  {
   "cell_type": "code",
   "execution_count": 25,
   "id": "2d7093ca-59cf-4717-8fe3-59c73fb06674",
   "metadata": {},
   "outputs": [],
   "source": [
    "def theta(s, p, vect):\n",
    "\n",
    "    sum_top = 0.0\n",
    "    n = int(math.log(len(vect), 2))\n",
    "    for l in range(2 ** (n - s - 1) - 1 + 1):\n",
    "        temp = vect[p * 2 ** (n - s) + l]\n",
    "        sum_top += temp ** 2\n",
    "    \n",
    "    sum_bottom = 0.0\n",
    "    for l in range(2 ** (n - s) - 1 + 1):\n",
    "        temp = vect[p * 2 ** (n - s) + l]\n",
    "        sum_bottom += temp ** 2\n",
    "        \n",
    "    if sum_bottom == 0:\n",
    "        return 0.0\n",
    "    else:\n",
    "        return 2 * np.arccos(np.sqrt(sum_top) / np.sqrt(sum_bottom))"
   ]
  },
  {
   "cell_type": "code",
   "execution_count": 26,
   "id": "8bbf734a-a9ab-4505-89f0-777e4d678f10",
   "metadata": {},
   "outputs": [],
   "source": [
    "def theta_array(vect, m):\n",
    "    \n",
    "    th = []\n",
    "    \n",
    "    for s in range(m):\n",
    "        for p in range(2 ** s):\n",
    "            th.append(theta(s, p, vect))\n",
    "    \n",
    "    return np.array(th)"
   ]
  },
  {
   "cell_type": "code",
   "execution_count": 27,
   "id": "f8e19e10-2aa3-4a84-a8d1-2ed9b34632be",
   "metadata": {},
   "outputs": [
    {
     "name": "stdout",
     "output_type": "stream",
     "text": [
      "2\n",
      "[2.3005 2.2143 1.8546]\n"
     ]
    }
   ],
   "source": [
    "vector = np.array([0.1, 0.2, 0.3, 0.4])\n",
    "\n",
    "m = int(np.log2(len(vector)))\n",
    "\n",
    "vector_norm = vector / np.linalg.norm(vector)\n",
    "\n",
    "th = theta_array(vector_norm, m)\n",
    "print(m)\n",
    "print(th)"
   ]
  },
  {
   "cell_type": "code",
   "execution_count": 28,
   "id": "1653a00b-a2c8-4127-805f-37e8826a460d",
   "metadata": {},
   "outputs": [
    {
     "data": {
      "text/plain": [
       "np.float64(10.0)"
      ]
     },
     "execution_count": 28,
     "metadata": {},
     "output_type": "execute_result"
    }
   ],
   "source": [
    "np.log2(1024)"
   ]
  },
  {
   "cell_type": "code",
   "execution_count": 29,
   "id": "1041e98c-5890-4afe-8c95-9954ad5448a2",
   "metadata": {},
   "outputs": [],
   "source": [
    "def rotation_ry(theta, m, A):\n",
    "    M = 2 ** m - 1 \n",
    "    \n",
    "    qc = QuantumCircuit(A)\n",
    "\n",
    "    for i in range(M):\n",
    "        qc.ry(theta[i], A[i])\n",
    "\n",
    "    return qc"
   ]
  },
  {
   "cell_type": "code",
   "execution_count": 30,
   "id": "622c0e50-3f7c-478a-960a-79d0290311a5",
   "metadata": {},
   "outputs": [
    {
     "data": {
      "text/html": [
       "<pre style=\"word-wrap: normal;white-space: pre;background: #fff0;line-height: 1.1;font-family: &quot;Courier New&quot;,Courier,monospace\">     ┌────────────┐\n",
       "A_0: ┤ Ry(2.3005) ├\n",
       "     ├────────────┤\n",
       "A_1: ┤ Ry(2.2143) ├\n",
       "     ├────────────┤\n",
       "A_2: ┤ Ry(1.8546) ├\n",
       "     └────────────┘</pre>"
      ],
      "text/plain": [
       "     ┌────────────┐\n",
       "A_0: ┤ Ry(2.3005) ├\n",
       "     ├────────────┤\n",
       "A_1: ┤ Ry(2.2143) ├\n",
       "     ├────────────┤\n",
       "A_2: ┤ Ry(1.8546) ├\n",
       "     └────────────┘"
      ]
     },
     "execution_count": 30,
     "metadata": {},
     "output_type": "execute_result"
    }
   ],
   "source": [
    "# Exemple d'utilisation\n",
    "M = 2 ** m - 1\n",
    "A = QuantumRegister(M, 'A')\n",
    "\n",
    "# Création du circuit principal\n",
    "qc = rotation_ry(th, m, A)\n",
    "\n",
    "qc.draw()"
   ]
  },
  {
   "cell_type": "code",
   "execution_count": 31,
   "id": "955c081c-1a59-43e6-8b5a-12d34f6e2f94",
   "metadata": {},
   "outputs": [
    {
     "name": "stdout",
     "output_type": "stream",
     "text": [
      "     ┌─────────────┐                              \n",
      "A_0: ┤ Ry(-2.3005) ├──────────────────────────────\n",
      "     └──────┬──────┘┌─────────────┐               \n",
      "A_1: ───────┼───────┤ Ry(-2.2143) ├───────────────\n",
      "            │       └──────┬──────┘┌─────────────┐\n",
      "A_2: ───────┼──────────────┼───────┤ Ry(-1.8546) ├\n",
      "            │              │       └──────┬──────┘\n",
      "B_0: ───────■──────────────┼──────────────┼───────\n",
      "                           │              │       \n",
      "B_1: ──────────────────────■──────────────┼───────\n",
      "                                          │       \n",
      "B_2: ─────────────────────────────────────■───────\n",
      "                                                  \n"
     ]
    }
   ],
   "source": [
    "def rotation_ry_parallel(theta, m, A, B):\n",
    "    M = 2 ** m - 1 \n",
    "    \n",
    "    qc = QuantumCircuit(A, B)\n",
    "\n",
    "    for i in range(M):\n",
    "        qc.cry(-theta[i], B[i], A[i])\n",
    "\n",
    "    return qc\n",
    "\n",
    "m = 2\n",
    "M = 2 ** m - 1 \n",
    "A = QuantumRegister(M, 'A')\n",
    "B = QuantumRegister(M, 'B')\n",
    "\n",
    "qc = rotation_ry_parallel(th, m, A, B)\n",
    "\n",
    "print(qc.draw())"
   ]
  },
  {
   "cell_type": "markdown",
   "id": "45966e3b-e32f-41b9-ba30-47f0b4432b88",
   "metadata": {},
   "source": [
    "# Implementation de SPF"
   ]
  },
  {
   "cell_type": "code",
   "execution_count": 32,
   "id": "d493223e-8dbe-4981-9bbe-d328f38aaff2",
   "metadata": {},
   "outputs": [
    {
     "data": {
      "text/html": [
       "<pre style=\"word-wrap: normal;white-space: pre;background: #fff0;line-height: 1.1;font-family: &quot;Courier New&quot;,Courier,monospace\">     ┌───┐\n",
       "D_0: ┤ X ├\n",
       "     ├───┤\n",
       "D_1: ┤ X ├\n",
       "     ├───┤\n",
       "D_2: ┤ X ├\n",
       "     ├───┤\n",
       "D_3: ┤ X ├\n",
       "     ├───┤\n",
       "D_4: ┤ X ├\n",
       "     ├───┤\n",
       "D_5: ┤ X ├\n",
       "     ├───┤\n",
       "D_6: ┤ X ├\n",
       "     ├───┤\n",
       "D_7: ┤ X ├\n",
       "     └───┘</pre>"
      ],
      "text/plain": [
       "     ┌───┐\n",
       "D_0: ┤ X ├\n",
       "     ├───┤\n",
       "D_1: ┤ X ├\n",
       "     ├───┤\n",
       "D_2: ┤ X ├\n",
       "     ├───┤\n",
       "D_3: ┤ X ├\n",
       "     ├───┤\n",
       "D_4: ┤ X ├\n",
       "     ├───┤\n",
       "D_5: ┤ X ├\n",
       "     ├───┤\n",
       "D_6: ┤ X ├\n",
       "     ├───┤\n",
       "D_7: ┤ X ├\n",
       "     └───┘"
      ]
     },
     "execution_count": 32,
     "metadata": {},
     "output_type": "execute_result"
    }
   ],
   "source": [
    "def cnot(R, m):\n",
    "    qc = QuantumCircuit(R)\n",
    "    num_qubits = R.size\n",
    "    \n",
    "    for j in range(num_qubits):\n",
    "        qc.x(R[j])\n",
    "    \n",
    "    return qc\n",
    "\n",
    "t = 2\n",
    "m = 2**(t+1)\n",
    "\n",
    "qd = QuantumRegister(m, 'D')\n",
    "\n",
    "sub_circuit = cnot(qd, t)\n",
    "\n",
    "sub_circuit.draw()"
   ]
  },
  {
   "cell_type": "code",
   "execution_count": 33,
   "id": "a23b81e1-2130-430b-adaf-07db8406f022",
   "metadata": {
    "scrolled": true
   },
   "outputs": [
    {
     "data": {
      "text/html": [
       "<pre style=\"word-wrap: normal;white-space: pre;background: #fff0;line-height: 1.1;font-family: &quot;Courier New&quot;,Courier,monospace\">                         \n",
       "D_0: ──■─────────────────\n",
       "       │                 \n",
       "D_1: ──┼────■────────────\n",
       "       │    │            \n",
       "D_2: ──┼────┼────■───────\n",
       "       │    │    │       \n",
       "D_3: ──┼────┼────┼────■──\n",
       "     ┌─┴─┐  │    │    │  \n",
       "D_4: ┤ X ├──┼────┼────┼──\n",
       "     └───┘┌─┴─┐  │    │  \n",
       "D_5: ─────┤ X ├──┼────┼──\n",
       "          └───┘┌─┴─┐  │  \n",
       "D_6: ──────────┤ X ├──┼──\n",
       "               └───┘┌─┴─┐\n",
       "D_7: ───────────────┤ X ├\n",
       "                    └───┘</pre>"
      ],
      "text/plain": [
       "                         \n",
       "D_0: ──■─────────────────\n",
       "       │                 \n",
       "D_1: ──┼────■────────────\n",
       "       │    │            \n",
       "D_2: ──┼────┼────■───────\n",
       "       │    │    │       \n",
       "D_3: ──┼────┼────┼────■──\n",
       "     ┌─┴─┐  │    │    │  \n",
       "D_4: ┤ X ├──┼────┼────┼──\n",
       "     └───┘┌─┴─┐  │    │  \n",
       "D_5: ─────┤ X ├──┼────┼──\n",
       "          └───┘┌─┴─┐  │  \n",
       "D_6: ──────────┤ X ├──┼──\n",
       "               └───┘┌─┴─┐\n",
       "D_7: ───────────────┤ X ├\n",
       "                    └───┘"
      ]
     },
     "execution_count": 33,
     "metadata": {},
     "output_type": "execute_result"
    }
   ],
   "source": [
    "def cnot_parallel(R, t):\n",
    "    sub_circuit = QuantumCircuit(R)\n",
    "    num_qubits = R.size\n",
    "    power = 2 ** t\n",
    "    \n",
    "    for j in range(power):\n",
    "        control_idx = j\n",
    "        target_idx = control_idx + power\n",
    "        sub_circuit.cx(R[control_idx], R[target_idx])\n",
    "    \n",
    "    return sub_circuit\n",
    "\n",
    "t = 2\n",
    "m = 2**(t+1)\n",
    "\n",
    "qd = QuantumRegister(m, 'D')\n",
    "\n",
    "sub_circuit = cnot_parallel(qd, t)\n",
    "\n",
    "sub_circuit.draw()\n"
   ]
  },
  {
   "cell_type": "code",
   "execution_count": 34,
   "id": "3022d85e-3593-4965-af2b-d47e1204cf02",
   "metadata": {},
   "outputs": [
    {
     "data": {
      "text/html": [
       "<pre style=\"word-wrap: normal;white-space: pre;background: #fff0;line-height: 1.1;font-family: &quot;Courier New&quot;,Courier,monospace\">                                        \n",
       "D_0: ──■────■─────────■─────────────────\n",
       "     ┌─┴─┐  │         │                 \n",
       "D_1: ┤ X ├──┼────■────┼────■────────────\n",
       "     └───┘┌─┴─┐  │    │    │            \n",
       "D_2: ─────┤ X ├──┼────┼────┼────■───────\n",
       "          └───┘┌─┴─┐  │    │    │       \n",
       "D_3: ──────────┤ X ├──┼────┼────┼────■──\n",
       "               └───┘┌─┴─┐  │    │    │  \n",
       "D_4: ───────────────┤ X ├──┼────┼────┼──\n",
       "                    └───┘┌─┴─┐  │    │  \n",
       "D_5: ────────────────────┤ X ├──┼────┼──\n",
       "                         └───┘┌─┴─┐  │  \n",
       "D_6: ─────────────────────────┤ X ├──┼──\n",
       "                              └───┘┌─┴─┐\n",
       "D_7: ──────────────────────────────┤ X ├\n",
       "                                   └───┘</pre>"
      ],
      "text/plain": [
       "                                        \n",
       "D_0: ──■────■─────────■─────────────────\n",
       "     ┌─┴─┐  │         │                 \n",
       "D_1: ┤ X ├──┼────■────┼────■────────────\n",
       "     └───┘┌─┴─┐  │    │    │            \n",
       "D_2: ─────┤ X ├──┼────┼────┼────■───────\n",
       "          └───┘┌─┴─┐  │    │    │       \n",
       "D_3: ──────────┤ X ├──┼────┼────┼────■──\n",
       "               └───┘┌─┴─┐  │    │    │  \n",
       "D_4: ───────────────┤ X ├──┼────┼────┼──\n",
       "                    └───┘┌─┴─┐  │    │  \n",
       "D_5: ────────────────────┤ X ├──┼────┼──\n",
       "                         └───┘┌─┴─┐  │  \n",
       "D_6: ─────────────────────────┤ X ├──┼──\n",
       "                              └───┘┌─┴─┐\n",
       "D_7: ──────────────────────────────┤ X ├\n",
       "                                   └───┘"
      ]
     },
     "execution_count": 34,
     "metadata": {},
     "output_type": "execute_result"
    }
   ],
   "source": [
    "def copy(R, i):\n",
    "    global_circuit = QuantumCircuit(R)\n",
    "    \n",
    "    for j in range(i):\n",
    "        sub_circuit = cnot_parallel(R, j)\n",
    "        global_circuit.compose(sub_circuit, inplace=True)\n",
    "\n",
    "    return global_circuit\n",
    "\n",
    "\n",
    "i = 3\n",
    "m = 2**i\n",
    "\n",
    "qd = QuantumRegister(m, 'D')\n",
    "qc = copy(qd, i)\n",
    "\n",
    "qc.draw()\n"
   ]
  },
  {
   "cell_type": "code",
   "execution_count": 35,
   "id": "f0e81609-b93b-472c-82cf-154a0ae40c4f",
   "metadata": {},
   "outputs": [
    {
     "data": {
      "text/html": [
       "<pre style=\"word-wrap: normal;white-space: pre;background: #fff0;line-height: 1.1;font-family: &quot;Courier New&quot;,Courier,monospace\">                 \n",
       "R_0: ─■──────────\n",
       "      │          \n",
       "R_1: ─┼──■───────\n",
       "      │  │       \n",
       "R_2: ─┼──┼──■────\n",
       "      │  │  │    \n",
       "R_3: ─┼──┼──┼──■─\n",
       "      │  │  │  │ \n",
       "S_0: ─X──┼──┼──┼─\n",
       "      │  │  │  │ \n",
       "S_1: ─┼──X──┼──┼─\n",
       "      │  │  │  │ \n",
       "S_2: ─┼──┼──X──┼─\n",
       "      │  │  │  │ \n",
       "S_3: ─┼──┼──┼──X─\n",
       "      │  │  │  │ \n",
       "S_4: ─X──┼──┼──┼─\n",
       "         │  │  │ \n",
       "S_5: ────X──┼──┼─\n",
       "            │  │ \n",
       "S_6: ───────X──┼─\n",
       "               │ \n",
       "S_7: ──────────X─\n",
       "                 </pre>"
      ],
      "text/plain": [
       "                 \n",
       "R_0: ─■──────────\n",
       "      │          \n",
       "R_1: ─┼──■───────\n",
       "      │  │       \n",
       "R_2: ─┼──┼──■────\n",
       "      │  │  │    \n",
       "R_3: ─┼──┼──┼──■─\n",
       "      │  │  │  │ \n",
       "S_0: ─X──┼──┼──┼─\n",
       "      │  │  │  │ \n",
       "S_1: ─┼──X──┼──┼─\n",
       "      │  │  │  │ \n",
       "S_2: ─┼──┼──X──┼─\n",
       "      │  │  │  │ \n",
       "S_3: ─┼──┼──┼──X─\n",
       "      │  │  │  │ \n",
       "S_4: ─X──┼──┼──┼─\n",
       "         │  │  │ \n",
       "S_5: ────X──┼──┼─\n",
       "            │  │ \n",
       "S_6: ───────X──┼─\n",
       "               │ \n",
       "S_7: ──────────X─\n",
       "                 "
      ]
     },
     "execution_count": 35,
     "metadata": {},
     "output_type": "execute_result"
    }
   ],
   "source": [
    "def cswap_parallel(R, S, t):\n",
    "    sub_circuit = QuantumCircuit(R,S)\n",
    "    R_qubits = R.size\n",
    "    S_qubits = S.size\n",
    "    \n",
    "    num_cswaps = 2 ** t\n",
    "\n",
    "    for i in range(num_cswaps):\n",
    "        control = R[i]\n",
    "        target1 = S[i]\n",
    "        target2 = S[i + num_cswaps]\n",
    "        sub_circuit.cswap(control, target1, target2)\n",
    "    return sub_circuit\n",
    "\n",
    "m = 2\n",
    "num_qubits_R = 2**m\n",
    "num_qubits_S = 2**(m+1)\n",
    "\n",
    "\n",
    "R = QuantumRegister(num_qubits_R, name='R')\n",
    "S = QuantumRegister(num_qubits_S, name='S')\n",
    "\n",
    "qc = cswap_parallel(R, S, m)\n",
    "qc.draw()\n",
    "\n",
    "qc_adj =qc\n",
    "qc_adj.draw()\n"
   ]
  },
  {
   "cell_type": "code",
   "execution_count": 36,
   "id": "fe097974-2957-4be6-a68c-bedb457cf07b",
   "metadata": {
    "scrolled": true
   },
   "outputs": [
    {
     "name": "stdout",
     "output_type": "stream",
     "text": [
      "             ░            ░                      ░                          ░ \n",
      "R_3_0: ──■───░───■────────░───■──────────────────░──■───────────────────────░─\n",
      "       ┌─┴─┐ ░   │        ░   │                  ░  │                       ░ \n",
      "R_3_1: ┤ X ├─░───┼────■───░───┼────■─────────────░──┼──■────────────────────░─\n",
      "       └───┘ ░ ┌─┴─┐  │   ░   │    │             ░  │  │                    ░ \n",
      "R_3_2: ──────░─┤ X ├──┼───░───┼────┼────■────────░──┼──┼──■─────────────────░─\n",
      "             ░ └───┘┌─┴─┐ ░   │    │    │        ░  │  │  │                 ░ \n",
      "R_3_3: ──────░──────┤ X ├─░───┼────┼────┼────■───░──┼──┼──┼──■──────────────░─\n",
      "             ░      └───┘ ░ ┌─┴─┐  │    │    │   ░  │  │  │  │              ░ \n",
      "R_3_4: ──────░────────────░─┤ X ├──┼────┼────┼───░──┼──┼──┼──┼──■───────────░─\n",
      "             ░            ░ └───┘┌─┴─┐  │    │   ░  │  │  │  │  │           ░ \n",
      "R_3_5: ──────░────────────░──────┤ X ├──┼────┼───░──┼──┼──┼──┼──┼──■────────░─\n",
      "             ░            ░      └───┘┌─┴─┐  │   ░  │  │  │  │  │  │        ░ \n",
      "R_3_6: ──────░────────────░───────────┤ X ├──┼───░──┼──┼──┼──┼──┼──┼──■─────░─\n",
      "             ░            ░           └───┘┌─┴─┐ ░  │  │  │  │  │  │  │     ░ \n",
      "R_3_7: ──────░────────────░────────────────┤ X ├─░──┼──┼──┼──┼──┼──┼──┼──■──░─\n",
      "             ░            ░                └───┘ ░  │  │  │  │  │  │  │  │  ░ \n",
      "R_2_0: ──■───░───■────────░───■──────────────────░──┼──┼──┼──┼──┼──┼──┼──┼──░─\n",
      "       ┌─┴─┐ ░   │        ░   │                  ░  │  │  │  │  │  │  │  │  ░ \n",
      "R_2_1: ┤ X ├─░───┼────■───░───┼────■─────────────░──┼──┼──┼──┼──┼──┼──┼──┼──░─\n",
      "       └───┘ ░ ┌─┴─┐  │   ░   │    │             ░  │  │  │  │  │  │  │  │  ░ \n",
      "R_2_2: ──────░─┤ X ├──┼───░───┼────┼────■────────░──┼──┼──┼──┼──┼──┼──┼──┼──░─\n",
      "             ░ └───┘┌─┴─┐ ░   │    │    │        ░  │  │  │  │  │  │  │  │  ░ \n",
      "R_2_3: ──────░──────┤ X ├─░───┼────┼────┼────■───░──┼──┼──┼──┼──┼──┼──┼──┼──░─\n",
      "             ░      └───┘ ░   │    │    │    │   ░  │  │  │  │  │  │  │  │  ░ \n",
      "R_1_0: ──■───░───■────────░───┼────┼────┼────┼───░──┼──┼──┼──┼──┼──┼──┼──┼──░─\n",
      "       ┌─┴─┐ ░   │        ░   │    │    │    │   ░  │  │  │  │  │  │  │  │  ░ \n",
      "R_1_1: ┤ X ├─░───┼────■───░───┼────┼────┼────┼───░──┼──┼──┼──┼──┼──┼──┼──┼──░─\n",
      "       └───┘ ░   │    │   ░   │    │    │    │   ░  │  │  │  │  │  │  │  │  ░ \n",
      "  R_0: ──■───░───┼────┼───░───┼────┼────┼────┼───░──┼──┼──┼──┼──┼──┼──┼──┼──░─\n",
      "         │   ░   │    │   ░   │    │    │    │   ░  │  │  │  │  │  │  │  │  ░ \n",
      "  S_0: ──X───░───X────┼───░───X────┼────┼────┼───░──X──┼──┼──┼──┼──┼──┼──┼──░─\n",
      "         │   ░   │    │   ░   │    │    │    │   ░  │  │  │  │  │  │  │  │  ░ \n",
      "  S_1: ──X───░───┼────X───░───┼────X────┼────┼───░──┼──X──┼──┼──┼──┼──┼──┼──░─\n",
      "             ░   │    │   ░   │    │    │    │   ░  │  │  │  │  │  │  │  │  ░ \n",
      "  S_2: ──────░───X────┼───░───┼────┼────X────┼───░──┼──┼──X──┼──┼──┼──┼──┼──░─\n",
      "             ░        │   ░   │    │    │    │   ░  │  │  │  │  │  │  │  │  ░ \n",
      "  S_3: ──────░────────X───░───┼────┼────┼────X───░──┼──┼──┼──X──┼──┼──┼──┼──░─\n",
      "             ░            ░   │    │    │    │   ░  │  │  │  │  │  │  │  │  ░ \n",
      "  S_4: ──────░────────────░───X────┼────┼────┼───░──┼──┼──┼──┼──X──┼──┼──┼──░─\n",
      "             ░            ░        │    │    │   ░  │  │  │  │  │  │  │  │  ░ \n",
      "  S_5: ──────░────────────░────────X────┼────┼───░──┼──┼──┼──┼──┼──X──┼──┼──░─\n",
      "             ░            ░             │    │   ░  │  │  │  │  │  │  │  │  ░ \n",
      "  S_6: ──────░────────────░─────────────X────┼───░──┼──┼──┼──┼──┼──┼──X──┼──░─\n",
      "             ░            ░                  │   ░  │  │  │  │  │  │  │  │  ░ \n",
      "  S_7: ──────░────────────░──────────────────X───░──┼──┼──┼──┼──┼──┼──┼──X──░─\n",
      "             ░            ░                      ░  │  │  │  │  │  │  │  │  ░ \n",
      "  S_8: ──────░────────────░──────────────────────░──X──┼──┼──┼──┼──┼──┼──┼──░─\n",
      "             ░            ░                      ░     │  │  │  │  │  │  │  ░ \n",
      "  S_9: ──────░────────────░──────────────────────░─────X──┼──┼──┼──┼──┼──┼──░─\n",
      "             ░            ░                      ░        │  │  │  │  │  │  ░ \n",
      " S_10: ──────░────────────░──────────────────────░────────X──┼──┼──┼──┼──┼──░─\n",
      "             ░            ░                      ░           │  │  │  │  │  ░ \n",
      " S_11: ──────░────────────░──────────────────────░───────────X──┼──┼──┼──┼──░─\n",
      "             ░            ░                      ░              │  │  │  │  ░ \n",
      " S_12: ──────░────────────░──────────────────────░──────────────X──┼──┼──┼──░─\n",
      "             ░            ░                      ░                 │  │  │  ░ \n",
      " S_13: ──────░────────────░──────────────────────░─────────────────X──┼──┼──░─\n",
      "             ░            ░                      ░                    │  │  ░ \n",
      " S_14: ──────░────────────░──────────────────────░────────────────────X──┼──░─\n",
      "             ░            ░                      ░                       │  ░ \n",
      " S_15: ──────░────────────░──────────────────────░───────────────────────X──░─\n",
      "             ░            ░                      ░                          ░ \n"
     ]
    }
   ],
   "source": [
    "def CopySwapSubroutine(R, S, m):\n",
    "    circuit = QuantumCircuit(*R, S)\n",
    "    \n",
    "    for i in range(m):\n",
    "        for j in range(m-i-1):\n",
    "            cnot_sub_circuit = cnot_parallel(R[j], i)\n",
    "            circuit.compose(cnot_sub_circuit,qubits=R[j], inplace=True)\n",
    "        cswap_sub_circuit = cswap_parallel(R[m-i-1], S, i)\n",
    "        circuit.compose(cswap_sub_circuit,qubits=[*R[m-i-1],*S], inplace=True)\n",
    "        circuit.barrier()\n",
    "    \n",
    "    return circuit\n",
    "\n",
    "m = 4\n",
    "\n",
    "# Création de registres R avec noms uniques\n",
    "R = []\n",
    "for i in range(m):\n",
    "    R_size = 2 ** (i)\n",
    "    R.append(QuantumRegister(R_size, f'R_{i}'))  # Noms uniques\n",
    "R = list(reversed(R))\n",
    "\n",
    "S = QuantumRegister(2 ** m, 'S')\n",
    "\n",
    "qc = CopySwapSubroutine(R, S, m)\n",
    "\n",
    "print(qc.draw())\n"
   ]
  },
  {
   "cell_type": "markdown",
   "id": "081e4155-ee3b-4ee8-9ad6-ee2b8619dee1",
   "metadata": {},
   "source": [
    "Declaration du flag"
   ]
  },
  {
   "cell_type": "code",
   "execution_count": 37,
   "id": "cf484b07-a30e-4873-b841-ff2997f7bacd",
   "metadata": {},
   "outputs": [
    {
     "name": "stdout",
     "output_type": "stream",
     "text": [
      "            ░  ░     ░ \n",
      "  D0: ──────░──░──■──░─\n",
      "            ░  ░  │  ░ \n",
      "  D1: ──────░──░──┼──░─\n",
      "      ┌───┐ ░  ░  │  ░ \n",
      "  F0: ┤ X ├─░──░──┼──░─\n",
      "      ├───┤ ░  ░  │  ░ \n",
      "F1_0: ┤ X ├─░──░──X──░─\n",
      "      └───┘ ░  ░  │  ░ \n",
      "F1_1: ──────░──░──X──░─\n",
      "            ░  ░     ░ \n"
     ]
    }
   ],
   "source": [
    "def FLAG_Subroutine(D, F, m):\n",
    "    \n",
    "    circuit = QuantumCircuit(*D, *F)\n",
    "\n",
    "    for j in range(m):\n",
    "        circuit.x(F[j][0])\n",
    "    circuit.barrier()\n",
    "    \n",
    "    for i in range(m - 1):\n",
    "        copy_circuit = copy(D[i], m-2-i)\n",
    "        circuit.compose(copy_circuit, qubits=D[i], inplace=True)\n",
    "    circuit.barrier()\n",
    "    \n",
    "    for i in range(m - 1):\n",
    "        for q in range(m - 1- i):\n",
    "            cswap_circuit = cswap_parallel(D[q], F[q+1+i], i)\n",
    "            circuit.compose(cswap_circuit, qubits=[*D[q], *F[q+1+i]], inplace=True)\n",
    "    circuit.barrier()\n",
    "        \n",
    "    for i in range(m - 1):\n",
    "        copy_circuit_inverse = copy(D[i], m-2-i).inverse()\n",
    "        circuit.compose(copy_circuit_inverse, qubits=D[i], inplace=True)\n",
    "\n",
    "    return circuit\n",
    "\n",
    "# Paramètre m\n",
    "m = 2\n",
    "\n",
    "# Création des registres D et F\n",
    "D = [QuantumRegister(max(1, 2**(m-j-2)), name=f'D{j}') for j in range(m)]\n",
    "F = [QuantumRegister(2**j, name=f'F{j}') for j in range(m)]\n",
    "# Création du circuit FLAG\n",
    "qc_FLAG = FLAG_Subroutine(D, F, m)\n",
    "\n",
    "print(qc_FLAG.draw())  # Affichage du circuit\n"
   ]
  },
  {
   "cell_type": "code",
   "execution_count": 38,
   "id": "8a5c9231-5357-477c-b4ce-340c1f8abef2",
   "metadata": {},
   "outputs": [
    {
     "name": "stdout",
     "output_type": "stream",
     "text": [
      "                  \n",
      "D0_0: ─X──■─────■─\n",
      "       │  │     │ \n",
      "D0_1: ─┼──┼─────┼─\n",
      "       │  │     │ \n",
      "D1_0: ─┼──┼──X──┼─\n",
      "       │  │  │  │ \n",
      "D1_1: ─┼──┼──┼──┼─\n",
      "       │  │  │  │ \n",
      "  A0: ─X──┼──┼──┼─\n",
      "          │  │  │ \n",
      "A1_0: ────X──X──X─\n",
      "          │     │ \n",
      "A1_1: ────X─────X─\n",
      "                  \n"
     ]
    }
   ],
   "source": [
    "from qiskit import QuantumCircuit, QuantumRegister\n",
    "\n",
    "def SPF(D, A, m):\n",
    "    circuit = QuantumCircuit(*D, *A)\n",
    "\n",
    "    for i in range(m):\n",
    "        for q in range(i - 1):\n",
    "            if (i - q) % 2 == 1 and 3 * (i - q - 1) // 2 - 1 <= m - q - 3:\n",
    "                cnot_circuit = cnot_parallel(D[q], 3 * (i - q - 1) // 2 - 1)\n",
    "                circuit.compose(cnot_circuit, qubits=D[q], inplace=True)\n",
    "            elif (i - q) % 2 == 0 and 3 * (i - q) // 2 - 2 <= m - q - 2:\n",
    "                cswap_circuit = cswap_parallel(D[q], A[i - 1 + (i - q) // 2], 3 * (i - q) // 2 - 2)\n",
    "                circuit.compose(cswap_circuit, qubits=[*D[q], *A[i - 1 + (i - q) // 2]], inplace=True)\n",
    "\n",
    "        for q in range(i):\n",
    "            if (i - q) % 2 == 1 and 3 * (i - q - 1) // 2 <= m - q - 2:\n",
    "                cswap_circuit = cswap_parallel(D[q], A[i + (i - q - 1) // 2], 3 * (i - q - 1) // 2)\n",
    "                circuit.compose(cswap_circuit, qubits=[*D[q], *A[i + (i - q - 1) // 2]], inplace=True)\n",
    "            elif (i - q) % 2 == 0 and 3 * (i - q) // 2 - 2 <= m - q - 3:\n",
    "                cnot_circuit = cnot_parallel(D[q], 3 * (i - q) // 2 - 2)\n",
    "                circuit.compose(cnot_circuit, qubits=D[q], inplace=True)\n",
    "\n",
    "        for q in range(i + 1):\n",
    "            if i == q:\n",
    "                circuit.swap(D[q][0], A[i][0])\n",
    "            elif (i - q) % 2 == 1 and 3 * (i - q - 1) // 2 <= m - q - 3:\n",
    "                cnot_circuit = cnot_parallel(D[q], 3 * (i - q - 1) // 2)\n",
    "                circuit.compose(cnot_circuit, qubits=D[q], inplace=True)\n",
    "            elif (i - q) % 2 == 0 and 3 * (i - q) // 2 - 1 <= m - q - 2:\n",
    "                cswap_circuit = cswap_parallel(D[q], A[i + (i - q) // 2], 3 * (i - q) // 2 - 1)\n",
    "                circuit.compose(cswap_circuit, qubits=[*D[q], *A[i + (i - q) // 2]], inplace=True)\n",
    "\n",
    "    for i in reversed(range(1, m)):\n",
    "        for q in range(i + 1):\n",
    "            if i == q:\n",
    "                continue\n",
    "            elif (i - q) % 2 == 1 and 3 * (i - q - 1) // 2 <= m - q - 3:\n",
    "                cnot_circuit = cnot_parallel(D[q], 3 * (i - q - 1) // 2)\n",
    "                circuit.compose(cnot_circuit, qubits=D[q], inplace=True)\n",
    "            elif (i - q) % 2 == 0 and 3 * (i - q) // 2 <= m - q - 2:\n",
    "                cswap_circuit = cswap_parallel(D[q], A[i + (i - q) // 2], 3 * (i - q) // 2)\n",
    "                circuit.compose(cswap_circuit, qubits=[*D[q], *A[i + (i - q) // 2]], inplace=True)\n",
    "\n",
    "        for q in range(i):\n",
    "            if (i - q) % 2 == 1 and 3 * (i - q - 1) // 2 <= m - q - 2:\n",
    "                cswap_circuit = cswap_parallel(D[q], A[i + (i - q - 1) // 2], 3 * (i - q - 1) // 2)\n",
    "                circuit.compose(cswap_circuit, qubits=[*D[q], *A[i + (i - q - 1) // 2]], inplace=True)\n",
    "            elif (i - q) % 2 == 0 and 3 * (i - q) // 2 - 2 <= m - q - 3:\n",
    "                cnot_circuit = cnot_parallel(D[q], 3 * (i - q) // 2 - 2)\n",
    "                circuit.compose(cnot_circuit, qubits=D[q], inplace=True)\n",
    "\n",
    "        for q in range(i - 1):\n",
    "            if (i - q) % 2 == 1 and 3 * (i - q - 1) // 2 - 1 <= m - q - 3:\n",
    "                cnot_circuit = cnot_parallel(D[q], 3 * (i - q - 1) // 2 - 1)\n",
    "                circuit.compose(cnot_circuit, qubits=D[q], inplace=True)\n",
    "            elif (i - q) % 2 == 0 and 3 * (i - q) // 2 - 2 <= m - q - 2:\n",
    "                cswap_circuit = cswap_parallel(D[q], A[i - 1 + (i - q) // 2], 3 * (i - q) // 2 - 2)\n",
    "                circuit.compose(cswap_circuit, qubits=[*D[q], *A[i - 1 + (i - q) // 2]], inplace=True)\n",
    "\n",
    "    return circuit\n",
    "\n",
    "\n",
    "m = 2\n",
    "D = [QuantumRegister(m, name=f'D{j}') for j in range(m)]\n",
    "A = [QuantumRegister(2**j, name=f'A{j}') for j in range(m)]\n",
    "\n",
    "# Création du circuit SPF\n",
    "qc_SPF = SPF(D, A, m)\n",
    "print(qc_SPF.draw())\n"
   ]
  },
  {
   "cell_type": "code",
   "execution_count": 39,
   "id": "bf47ca39-4433-4a0d-b0b0-dcac34377b8a",
   "metadata": {},
   "outputs": [
    {
     "name": "stdout",
     "output_type": "stream",
     "text": [
      "                    Rotations Ry              SPF            ░  ░     ░  FLAG                                               Inverse Ry  ░     ░  ░ »\n",
      "Q_0: ────────────────────░────────X──■─────■───░─────────────░──░──■──░───░─────────────────────────────────────────────────────░───────░──■──░──░─»\n",
      "                         ░        │  │     │   ░             ░  ░  │  ░   ░                                                     ░       ░  │  ░  ░ »\n",
      "Q_1: ────────────────────░────────┼──┼──X──┼───░─────────────░──░──┼──░───░─────────────────────────────────────────────────────░───────░──┼──░──░─»\n",
      "     ┌────────────┐      ░        │  │  │  │   ░             ░  ░  │  ░   ░   ┌─────────────┐                                   ░       ░  │  ░  ░ »\n",
      "A_0: ┤ Ry(2.3005) ├──────░────────X──┼──┼──┼───░───────────────────┼──────░───┤ Ry(-2.3005) ├───────────────────────────────────░──────────┼───────»\n",
      "     ├────────────┤      ░           │  │  │   ░                   │      ░   └──────┬──────┘┌─────────────┐                    ░          │       »\n",
      "A_1: ┤ Ry(2.2143) ├──────░───────────X──X──X───░───────────────────┼──────░──────────┼───────┤ Ry(-2.2143) ├────────────────────░──────────┼───────»\n",
      "     ├────────────┤      ░           │     │   ░                   │      ░          │       └──────┬──────┘┌─────────────┐     ░          │       »\n",
      "A_2: ┤ Ry(1.8546) ├──────░───────────X─────X───░───────────────────┼──────░──────────┼──────────────┼───────┤ Ry(-1.8546) ├─────░──────────┼───────»\n",
      "     └────────────┘      ░                     ░  ┌───┐┌───┐ ░  ░  │  ░   ░          │              │       └──────┬──────┘     ░       ░  │  ░  ░ »\n",
      "F_0: ────────────────────░─────────────────────░──┤ X ├┤ X ├─░──░──┼──░───░──────────■──────────────┼──────────────┼────────────░───────░──┼──░──░─»\n",
      "                         ░                     ░  ├───┤├───┤ ░  ░  │  ░   ░                         │              │            ░       ░  │  ░  ░ »\n",
      "F_1: ────────────────────░─────────────────────░──┤ X ├┤ X ├─░──░──X──░───░─────────────────────────■──────────────┼────────────░───────░──X──░──░─»\n",
      "                         ░                     ░  ├───┤└───┘ ░  ░  │  ░   ░                                        │            ░       ░  │  ░  ░ »\n",
      "F_2: ────────────────────░─────────────────────░──┤ X ├──────░──░──X──░───░────────────────────────────────────────■────────────░───────░──X──░──░─»\n",
      "                         ░                     ░  └───┘      ░  ░     ░   ░                                                     ░       ░     ░  ░ »\n",
      "C: 2/══════════════════════════════════════════════════════════════════════════════════════════════════════════════════════════════════════════════»\n",
      "                                                                                                                                                   »\n",
      "«                FLAG†  statevector \n",
      "«Q_0: ─────────────░─────────░──────\n",
      "«                  ░         ░      \n",
      "«Q_1: ─────────────░─────────░──────\n",
      "«                  ░         ░      \n",
      "«A_0: ─────────────░─────────░──────\n",
      "«                  ░         ░      \n",
      "«A_1: ─────────────░─────────░──────\n",
      "«                  ░         ░      \n",
      "«A_2: ─────────────░─────────░──────\n",
      "«     ┌───┐┌───┐   ░         ░      \n",
      "«F_0: ┤ X ├┤ X ├───░─────────░──────\n",
      "«     ├───┤├───┤   ░         ░      \n",
      "«F_1: ┤ X ├┤ X ├───░─────────░──────\n",
      "«     ├───┤└───┘   ░         ░      \n",
      "«F_2: ┤ X ├────────░─────────░──────\n",
      "«     └───┘        ░         ░      \n",
      "«C: 2/══════════════════════════════\n",
      "«                                   \n"
     ]
    }
   ],
   "source": [
    "from qiskit import QuantumCircuit, QuantumRegister\n",
    "\n",
    "def SP_Circuit(m, theta, measure = False):\n",
    "    M = 2 ** m - 1  # Nombre total de rotations et d'ancillas\n",
    "    \n",
    "    # Définition des registres\n",
    "    Q = QuantumRegister(m, 'Q')\n",
    "    A = QuantumRegister(M, 'A')\n",
    "    F = QuantumRegister(M, 'F')\n",
    "    C = ClassicalRegister(m, 'C') \n",
    "    qc = QuantumCircuit(Q, A, F, C)\n",
    "\n",
    "    # Étape 1 : Appliquer les rotations contrôlées\n",
    "    rotation_circuit = rotation_ry(theta, m, A)\n",
    "    qc.compose(rotation_circuit, qubits=A[:], inplace=True)\n",
    "    qc.barrier(label=\"Rotations Ry\")\n",
    "\n",
    "    # Etape 2 : Appliquer le bloc SPF\n",
    "    #spf_circuit = SPF(D=[A], A=[F], m=M)\n",
    "    qc.compose(qc_SPF, qubits=[Q[0],F[0],Q[1],F[1]]+A[:], inplace=True)\n",
    "    qc.barrier(label=\"SPF\")\n",
    "\n",
    "    # Etape 3 : Appliquer FLAG\n",
    "    cnot_circuit = cnot(F, m)\n",
    "    qc.compose(cnot_circuit, qubits=F[:], inplace=True)\n",
    "    #flag_circuit = FLAG_Subroutine(D=[A], F=[F], m=M)\n",
    "    qc.compose(qc_FLAG, qubits=Q[:]+F[:], inplace=True)\n",
    "    qc.barrier(label=\"FLAG\")\n",
    "\n",
    "    # Etape 4 : Appliquer les rotations inverses\n",
    "    inverse_rotation_circuit = rotation_ry_parallel(theta, m, A, F)\n",
    "    qc.compose(inverse_rotation_circuit, qubits=A[:] + F[:], inplace=True)\n",
    "    qc.barrier(label=\"Inverse Ry\")\n",
    "\n",
    "    # Etape 5 : Appliquer FLAG inverse\n",
    "    qc.compose(qc_FLAG.inverse(), qubits=Q[:]+F[:], inplace=True)\n",
    "    cnot_circuit = cnot(F, m)\n",
    "    qc.compose(cnot_circuit, qubits=F[:], inplace=True)\n",
    "    qc.barrier(label=\"FLAG†\")\n",
    "\n",
    "    # Etape 6 : Test\n",
    "    qc.save_statevector()\n",
    "    if measure:\n",
    "        qc.measure(Q, C)\n",
    "\n",
    "    return qc\n",
    "\n",
    "\n",
    "m = 2\n",
    "\n",
    "qc_sp = SP_Circuit(m, th)\n",
    "print(qc_sp.draw(fold=152))"
   ]
  },
  {
   "cell_type": "code",
   "execution_count": 40,
   "id": "27b6518f-c32b-4353-83e9-a401f44ae107",
   "metadata": {},
   "outputs": [
    {
     "data": {
      "text/plain": [
       "'\\ndef loadf(qc, A, B, D, F):\\n    subroutine(qc, A, B, D, F)\\n    \\n    for i in range(N - M):\\n        rotation_ry_parallel(theta, m, A, B)\\n\\n    subroutine(qc, A, B, D, F).inverse()\\n\\ndef subroutine(qc, D, B, F):\\n    \\n    B_size = B.size\\n    m=0 #temporaire \\n    cnot(A, m)\\n\\n    for i in range(m) do\\n        copy(D, B_size+1).inverse()\\n\\n    CopySwapSubroutine(D, A, m)\\n\\n    for i in range(B_size):\\n        CopySwapSubroutine(D, B, n-m)\\n    \\n    for i in range(M):\\n        copy(A, B_size)\\n    \\n    for i in range(B_size):\\n         copy(F, M)\\n'"
      ]
     },
     "execution_count": 40,
     "metadata": {},
     "output_type": "execute_result"
    }
   ],
   "source": [
    "\"\"\"\n",
    "def loadf(qc, A, B, D, F):\n",
    "    subroutine(qc, A, B, D, F)\n",
    "    \n",
    "    for i in range(N - M):\n",
    "        rotation_ry_parallel(theta, m, A, B)\n",
    "\n",
    "    subroutine(qc, A, B, D, F).inverse()\n",
    "\n",
    "def subroutine(qc, D, B, F):\n",
    "    \n",
    "    B_size = B.size\n",
    "    m=0 #temporaire \n",
    "    cnot(A, m)\n",
    "\n",
    "    for i in range(m) do\n",
    "        copy(D, B_size+1).inverse()\n",
    "\n",
    "    CopySwapSubroutine(D, A, m)\n",
    "\n",
    "    for i in range(B_size):\n",
    "        CopySwapSubroutine(D, B, n-m)\n",
    "    \n",
    "    for i in range(M):\n",
    "        copy(A, B_size)\n",
    "    \n",
    "    for i in range(B_size):\n",
    "         copy(F, M)\n",
    "\"\"\""
   ]
  },
  {
   "cell_type": "markdown",
   "id": "bb09582a-1c2e-49d2-9e5c-d41f6de7b5ad",
   "metadata": {},
   "source": [
    "# TEST IRIS"
   ]
  },
  {
   "cell_type": "code",
   "execution_count": 41,
   "id": "2d272c91-bf1d-4caa-9a59-cce372e6ad04",
   "metadata": {},
   "outputs": [
    {
     "name": "stdout",
     "output_type": "stream",
     "text": [
      "   sepal length (cm)  sepal width (cm)  petal length (cm)  petal width (cm)  \\\n",
      "0                5.1               3.5                1.4               0.2   \n",
      "1                4.9               3.0                1.4               0.2   \n",
      "2                4.7               3.2                1.3               0.2   \n",
      "3                4.6               3.1                1.5               0.2   \n",
      "4                5.0               3.6                1.4               0.2   \n",
      "\n",
      "   target target_name  \n",
      "0       0      setosa  \n",
      "1       0      setosa  \n",
      "2       0      setosa  \n",
      "3       0      setosa  \n",
      "4       0      setosa  \n"
     ]
    }
   ],
   "source": [
    "from sklearn.datasets import load_iris\n",
    "import pandas as pd\n",
    "\n",
    "iris = load_iris()\n",
    "\n",
    "#Afficher head\n",
    "df = pd.DataFrame(iris.data, columns=iris.feature_names)\n",
    "df['target'] = iris.target\n",
    "df['target_name'] = df['target'].map(dict(enumerate(iris.target_names)))\n",
    "print(df.head())"
   ]
  },
  {
   "cell_type": "code",
   "execution_count": 42,
   "id": "99679915-e613-4119-98a9-1290c3b1585f",
   "metadata": {},
   "outputs": [
    {
     "name": "stdout",
     "output_type": "stream",
     "text": [
      "sample = [4.4 3.2 1.3 0.2]\n",
      "m = 2\n",
      "sample normalisé = [0.7861 0.5717 0.2323 0.0357]\n",
      "theta = [0.4744 1.2576 0.3053]\n"
     ]
    }
   ],
   "source": [
    "sample = iris.data[42] #on prend un sample\n",
    "print(\"sample =\",sample)\n",
    "\n",
    "m = int(np.log2(len(sample)))\n",
    "\n",
    "sample_norm = sample / np.linalg.norm(sample)\n",
    "\n",
    "th = theta_array(sample_norm, m)\n",
    "print(\"m =\",m)\n",
    "print(\"sample normalisé =\",sample_norm)\n",
    "print(\"theta =\",th)\n",
    "\n",
    "# Construction et affichage du circuit\n",
    "qc_sp = SP_Circuit(m, th, True)"
   ]
  },
  {
   "cell_type": "code",
   "execution_count": 43,
   "id": "9f0fcc78-67f1-426f-b790-5c3246c545a5",
   "metadata": {},
   "outputs": [
    {
     "name": "stdout",
     "output_type": "stream",
     "text": [
      "\n",
      "Total counts are: {'10': 612, '00': 1285, '01': 101, '11': 2}\n"
     ]
    },
    {
     "data": {
      "image/png": "[encoded data removed]",
      "text/plain": [
       "<Figure size 640x480 with 1 Axes>"
      ]
     },
     "execution_count": 43,
     "metadata": {},
     "output_type": "execute_result"
    }
   ],
   "source": [
    "from qiskit.visualization import plot_histogram\n",
    "\n",
    "simulator = Aer.get_backend('qasm_simulator')\n",
    "job = simulator.run(qc_sp, shots=2000)\n",
    "result = job.result()\n",
    "counts = result.get_counts(qc_sp)\n",
    "print(\"\\nTotal counts are:\", counts)\n",
    "total_shots = sum(counts.values())\n",
    "probabilities = {state: count / total_shots for state, count in counts.items()}\n",
    "plot_histogram(probabilities, title=\"Résultat de $f_3(x)$\")"
   ]
  },
  {
   "cell_type": "code",
   "execution_count": 44,
   "id": "e5b06418-5594-4942-8536-ec79aa48871f",
   "metadata": {
    "scrolled": true
   },
   "outputs": [
    {
     "name": "stdout",
     "output_type": "stream",
     "text": [
      "sample normalisé = [0.7861 0.5717 0.2323 0.0357]\n",
      "statevector = [0.7861+0.j 0.2323+0.j 0.5717+0.j 0.0357+0.j]\n",
      "(1.0000318799999999+0j)\n",
      "profondeur = 12\n"
     ]
    }
   ],
   "source": [
    "statevector = job.result().get_statevector(qc_sp, decimals=4)\n",
    "statevector = np.round(statevector, 4)\n",
    "\n",
    "print(\"sample normalisé =\",sample_norm)\n",
    "print(\"statevector =\",statevector[:4])\n",
    "print(sum(statevector[:4]*statevector[:4]))\n",
    "qc_sp = SP_Circuit(m, th)\n",
    "print(\"profondeur =\",qc_sp.depth())"
   ]
  }
 ],
 "metadata": {
  "kernelspec": {
   "display_name": "Python 3 (ipykernel)",
   "language": "python",
   "name": "python3"
  },
  "language_info": {
   "codemirror_mode": {
    "name": "ipython",
    "version": 3
   },
   "file_extension": ".py",
   "mimetype": "text/x-python",
   "name": "python",
   "nbconvert_exporter": "python",
   "pygments_lexer": "ipython3",
   "version": "3.11.11"
  }
 },
 "nbformat": 4,
 "nbformat_minor": 5
}
